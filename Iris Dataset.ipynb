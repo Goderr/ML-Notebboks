{
 "cells": [
  {
   "cell_type": "code",
   "execution_count": 197,
   "metadata": {},
   "outputs": [],
   "source": [
    "import numpy as np\n",
    "import tensorflow as tf\n",
    "import matplotlib.pyplot as plt\n"
   ]
  },
  {
   "cell_type": "code",
   "execution_count": 198,
   "metadata": {},
   "outputs": [
    {
     "data": {
      "text/plain": [
       "(150, 4)"
      ]
     },
     "execution_count": 198,
     "metadata": {},
     "output_type": "execute_result"
    }
   ],
   "source": [
    "from sklearn import datasets\n",
    "iris = datasets.load_iris()\n",
    "X = iris.data\n",
    "y = iris.target\n",
    "X.shape"
   ]
  },
  {
   "cell_type": "code",
   "execution_count": 199,
   "metadata": {},
   "outputs": [
    {
     "data": {
      "text/plain": [
       "(30, 4)"
      ]
     },
     "execution_count": 199,
     "metadata": {},
     "output_type": "execute_result"
    }
   ],
   "source": [
    "from sklearn.model_selection import train_test_split\n",
    "X_train, X_test, y_train, y_test = train_test_split(X, y, test_size=0.2)\n",
    "X_test.shape"
   ]
  },
  {
   "cell_type": "code",
   "execution_count": 200,
   "metadata": {},
   "outputs": [
    {
     "data": {
      "text/plain": [
       "array([[-1.28466206, -0.12163352, -1.33790752, -1.18371106],\n",
       "       [-1.0366179 ,  0.55202904, -1.33790752, -1.31696184],\n",
       "       [-1.16063998,  0.10292067, -1.28060955, -1.45021262],\n",
       "       [ 1.31980165,  0.10292067,  0.95401114,  1.21480291],\n",
       "       [-1.0366179 , -1.69351281, -0.24924615, -0.25095563],\n",
       "       [ 1.81588997, -0.3461877 ,  1.46969284,  0.81505058],\n",
       "       [ 1.69186789,  1.22569159,  1.35509691,  1.74780602],\n",
       "       [-1.0366179 ,  0.77658322, -1.28060955, -1.31696184],\n",
       "       [ 0.57566916, -0.57074189,  0.78211724,  0.41529825],\n",
       "       [ 1.19577957,  0.32747485,  1.24050097,  1.48130446],\n",
       "       [ 1.07175749,  0.55202904,  1.12590504,  1.21480291],\n",
       "       [-0.41650749,  2.5730167 , -1.33790752, -1.31696184],\n",
       "       [ 0.57566916,  0.55202904,  0.55292538,  0.54854903],\n",
       "       [-0.91259581,  1.45024578, -1.28060955, -1.05046029],\n",
       "       [ 0.69969124, -0.57074189,  1.06860708,  1.34805369],\n",
       "       [ 1.93991205, -0.57074189,  1.35509691,  0.94830136],\n",
       "       [ 0.69969124, -0.79529607,  0.89671318,  0.94830136],\n",
       "       [-0.04444125, -0.79529607,  0.78211724,  0.94830136],\n",
       "       [-0.16846333,  3.02212507, -1.28060955, -1.05046029],\n",
       "       [ 2.3119783 , -1.01985026,  1.81348064,  1.48130446],\n",
       "       [-1.16063998,  1.22569159, -1.33790752, -1.45021262],\n",
       "       [-1.0366179 ,  1.22569159, -1.33790752, -1.31696184],\n",
       "       [ 0.45164708, -0.57074189,  0.61022334,  0.81505058],\n",
       "       [-1.16063998, -0.12163352, -1.33790752, -1.31696184],\n",
       "       [-0.41650749, -1.01985026,  0.38103148,  0.01554592],\n",
       "       [-0.16846333, -0.3461877 ,  0.26643554,  0.1487967 ],\n",
       "       [-0.54052957,  1.89935415, -1.39520548, -1.05046029],\n",
       "       [-0.91259581,  0.77658322, -1.28060955, -1.31696184],\n",
       "       [ 2.56002246,  1.67479996,  1.52699081,  1.08155213],\n",
       "       [-0.29248541, -0.79529607,  0.26643554,  0.1487967 ],\n",
       "       [ 1.07175749,  0.10292067,  0.55292538,  0.41529825],\n",
       "       [ 1.07175749, -0.12163352,  0.72481928,  0.68179981],\n",
       "       [ 0.07958084, -0.12163352,  0.26643554,  0.41529825],\n",
       "       [ 0.82371332, -0.12163352,  0.83941521,  1.08155213],\n",
       "       [-1.53270622,  0.32747485, -1.33790752, -1.31696184],\n",
       "       [ 1.69186789,  0.32747485,  1.29779894,  0.81505058],\n",
       "       [-0.41650749, -1.69351281,  0.15183961,  0.1487967 ],\n",
       "       [-0.91259581,  1.67479996, -1.28060955, -1.18371106],\n",
       "       [ 1.44382373,  0.32747485,  0.55292538,  0.28204748],\n",
       "       [ 1.19577957, -0.12163352,  1.01130911,  1.21480291],\n",
       "       [ 0.57566916,  0.77658322,  1.06860708,  1.61455524],\n",
       "       [-1.0366179 ,  1.00113741, -1.22331158, -0.78395873],\n",
       "       [ 0.20360292, -0.3461877 ,  0.43832944,  0.41529825],\n",
       "       [-0.16846333, -0.57074189,  0.20913758,  0.1487967 ],\n",
       "       [-0.29248541, -1.24440444,  0.09454164, -0.11770485],\n",
       "       [ 0.327625  , -0.12163352,  0.49562741,  0.28204748],\n",
       "       [ 0.82371332, -0.12163352,  1.01130911,  0.81505058],\n",
       "       [ 0.327625  , -0.57074189,  0.55292538,  0.01554592],\n",
       "       [-0.16846333, -1.24440444,  0.72481928,  1.08155213],\n",
       "       [-0.54052957,  1.89935415, -1.16601362, -1.05046029],\n",
       "       [ 0.57566916, -1.24440444,  0.66752131,  0.41529825],\n",
       "       [-1.28466206,  0.77658322, -1.05141769, -1.31696184],\n",
       "       [-0.78857373,  2.34846252, -1.28060955, -1.45021262],\n",
       "       [-1.0366179 , -0.12163352, -1.22331158, -1.31696184],\n",
       "       [ 0.327625  , -0.12163352,  0.66752131,  0.81505058],\n",
       "       [-0.91259581,  0.55202904, -1.16601362, -0.91720951],\n",
       "       [ 0.69969124, -0.3461877 ,  0.32373351,  0.1487967 ],\n",
       "       [-0.41650749, -1.46895863,  0.03724368, -0.11770485],\n",
       "       [ 0.57566916,  0.55202904,  1.29779894,  1.74780602],\n",
       "       [-1.53270622,  1.22569159, -1.56709938, -1.31696184],\n",
       "       [ 1.69186789, -0.12163352,  1.18320301,  0.54854903],\n",
       "       [-0.16846333,  1.67479996, -1.16601362, -1.18371106],\n",
       "       [-0.41650749, -1.46895863, -0.02005429, -0.25095563],\n",
       "       [-1.0366179 ,  0.32747485, -1.45250345, -1.31696184],\n",
       "       [-0.54052957,  0.77658322, -1.28060955, -1.05046029],\n",
       "       [-1.16063998, -1.24440444,  0.43832944,  0.68179981],\n",
       "       [ 1.07175749,  0.10292067,  0.38103148,  0.28204748],\n",
       "       [ 0.20360292, -0.79529607,  0.78211724,  0.54854903],\n",
       "       [ 0.20360292,  0.77658322,  0.43832944,  0.54854903],\n",
       "       [-0.29248541, -0.3461877 , -0.07735225,  0.1487967 ],\n",
       "       [-0.54052957, -0.12163352,  0.43832944,  0.41529825],\n",
       "       [ 1.31980165,  0.10292067,  0.66752131,  0.41529825],\n",
       "       [ 1.07175749, -0.12163352,  0.83941521,  1.48130446],\n",
       "       [ 0.20360292, -1.918067  ,  0.15183961, -0.25095563],\n",
       "       [-0.04444125, -0.79529607,  0.09454164,  0.01554592],\n",
       "       [-0.41650749, -1.24440444,  0.15183961,  0.1487967 ],\n",
       "       [-1.16063998,  0.10292067, -1.28060955, -1.31696184],\n",
       "       [-1.0366179 ,  1.00113741, -1.39520548, -1.18371106],\n",
       "       [-1.53270622,  0.10292067, -1.28060955, -1.31696184],\n",
       "       [ 0.327625  , -0.57074189,  0.15183961,  0.1487967 ],\n",
       "       [ 0.69969124,  0.32747485,  0.43832944,  0.41529825],\n",
       "       [-0.04444125,  2.12390833, -1.45250345, -1.31696184],\n",
       "       [ 0.82371332, -0.12163352,  1.18320301,  1.34805369],\n",
       "       [-0.91259581,  1.67479996, -1.05141769, -1.05046029],\n",
       "       [-1.0366179 , -2.36717537, -0.13465022, -0.25095563],\n",
       "       [ 0.20360292, -0.12163352,  0.61022334,  0.81505058],\n",
       "       [ 0.57566916, -0.3461877 ,  1.06860708,  0.81505058],\n",
       "       [ 0.9477354 , -0.3461877 ,  0.49562741,  0.1487967 ],\n",
       "       [ 0.327625  , -1.01985026,  1.06860708,  0.28204748],\n",
       "       [-0.04444125, -1.01985026,  0.15183961,  0.01554592],\n",
       "       [-1.78075038, -0.12163352, -1.39520548, -1.31696184],\n",
       "       [ 0.57566916, -0.79529607,  0.66752131,  0.81505058],\n",
       "       [-0.78857373,  0.77658322, -1.33790752, -1.31696184],\n",
       "       [ 1.31980165,  0.32747485,  1.12590504,  1.48130446],\n",
       "       [-0.04444125, -0.79529607,  0.78211724,  0.94830136],\n",
       "       [-0.91259581,  1.00113741, -1.33790752, -1.31696184],\n",
       "       [-1.28466206, -0.12163352, -1.33790752, -1.45021262],\n",
       "       [-0.29248541, -0.57074189,  0.66752131,  1.08155213],\n",
       "       [-1.78075038, -0.3461877 , -1.33790752, -1.31696184],\n",
       "       [ 2.18795622, -0.12163352,  1.64158674,  1.21480291],\n",
       "       [ 0.57566916, -1.24440444,  0.72481928,  0.94830136],\n",
       "       [ 1.07175749,  0.55202904,  1.12590504,  1.74780602],\n",
       "       [-0.91259581, -1.24440444, -0.42114005, -0.11770485],\n",
       "       [-0.41650749,  1.00113741, -1.39520548, -1.31696184],\n",
       "       [-1.6567283 , -1.69351281, -1.39520548, -1.18371106],\n",
       "       [ 0.82371332,  0.32747485,  0.78211724,  1.08155213],\n",
       "       [-0.78857373, -0.79529607,  0.09454164,  0.28204748],\n",
       "       [-0.54052957,  0.77658322, -1.16601362, -1.31696184],\n",
       "       [ 0.45164708, -1.918067  ,  0.43832944,  0.41529825],\n",
       "       [-1.16063998, -1.46895863, -0.24924615, -0.25095563],\n",
       "       [-0.29248541, -0.12163352,  0.20913758,  0.1487967 ],\n",
       "       [-1.28466206,  0.10292067, -1.22331158, -1.31696184],\n",
       "       [ 0.82371332, -0.57074189,  0.49562741,  0.41529825],\n",
       "       [ 0.69969124,  0.32747485,  0.89671318,  1.48130446],\n",
       "       [-0.66455165,  1.45024578, -1.28060955, -1.31696184],\n",
       "       [-0.16846333, -0.12163352,  0.26643554,  0.01554592],\n",
       "       [-0.04444125, -0.79529607,  0.20913758, -0.25095563],\n",
       "       [-1.28466206,  0.77658322, -1.22331158, -1.31696184],\n",
       "       [ 1.07175749,  0.10292067,  1.06860708,  1.61455524],\n",
       "       [ 2.3119783 , -0.57074189,  1.69888471,  1.08155213]])"
      ]
     },
     "execution_count": 200,
     "metadata": {},
     "output_type": "execute_result"
    }
   ],
   "source": [
    "from sklearn.preprocessing import StandardScaler\n",
    "scaler = StandardScaler()\n",
    "X_train_norm = scaler.fit_transform(X_train)\n",
    "X_test_norm = scaler.fit_transform(X_test)\n",
    "X_train_norm"
   ]
  },
  {
   "cell_type": "code",
   "execution_count": 201,
   "metadata": {},
   "outputs": [],
   "source": [
    "from sklearn.linear_model import LogisticRegression\n",
    "clr_LR = LogisticRegression()"
   ]
  },
  {
   "cell_type": "code",
   "execution_count": 202,
   "metadata": {},
   "outputs": [
    {
     "data": {
      "text/html": [
       "<style>#sk-container-id-14 {color: black;background-color: white;}#sk-container-id-14 pre{padding: 0;}#sk-container-id-14 div.sk-toggleable {background-color: white;}#sk-container-id-14 label.sk-toggleable__label {cursor: pointer;display: block;width: 100%;margin-bottom: 0;padding: 0.3em;box-sizing: border-box;text-align: center;}#sk-container-id-14 label.sk-toggleable__label-arrow:before {content: \"▸\";float: left;margin-right: 0.25em;color: #696969;}#sk-container-id-14 label.sk-toggleable__label-arrow:hover:before {color: black;}#sk-container-id-14 div.sk-estimator:hover label.sk-toggleable__label-arrow:before {color: black;}#sk-container-id-14 div.sk-toggleable__content {max-height: 0;max-width: 0;overflow: hidden;text-align: left;background-color: #f0f8ff;}#sk-container-id-14 div.sk-toggleable__content pre {margin: 0.2em;color: black;border-radius: 0.25em;background-color: #f0f8ff;}#sk-container-id-14 input.sk-toggleable__control:checked~div.sk-toggleable__content {max-height: 200px;max-width: 100%;overflow: auto;}#sk-container-id-14 input.sk-toggleable__control:checked~label.sk-toggleable__label-arrow:before {content: \"▾\";}#sk-container-id-14 div.sk-estimator input.sk-toggleable__control:checked~label.sk-toggleable__label {background-color: #d4ebff;}#sk-container-id-14 div.sk-label input.sk-toggleable__control:checked~label.sk-toggleable__label {background-color: #d4ebff;}#sk-container-id-14 input.sk-hidden--visually {border: 0;clip: rect(1px 1px 1px 1px);clip: rect(1px, 1px, 1px, 1px);height: 1px;margin: -1px;overflow: hidden;padding: 0;position: absolute;width: 1px;}#sk-container-id-14 div.sk-estimator {font-family: monospace;background-color: #f0f8ff;border: 1px dotted black;border-radius: 0.25em;box-sizing: border-box;margin-bottom: 0.5em;}#sk-container-id-14 div.sk-estimator:hover {background-color: #d4ebff;}#sk-container-id-14 div.sk-parallel-item::after {content: \"\";width: 100%;border-bottom: 1px solid gray;flex-grow: 1;}#sk-container-id-14 div.sk-label:hover label.sk-toggleable__label {background-color: #d4ebff;}#sk-container-id-14 div.sk-serial::before {content: \"\";position: absolute;border-left: 1px solid gray;box-sizing: border-box;top: 0;bottom: 0;left: 50%;z-index: 0;}#sk-container-id-14 div.sk-serial {display: flex;flex-direction: column;align-items: center;background-color: white;padding-right: 0.2em;padding-left: 0.2em;position: relative;}#sk-container-id-14 div.sk-item {position: relative;z-index: 1;}#sk-container-id-14 div.sk-parallel {display: flex;align-items: stretch;justify-content: center;background-color: white;position: relative;}#sk-container-id-14 div.sk-item::before, #sk-container-id-14 div.sk-parallel-item::before {content: \"\";position: absolute;border-left: 1px solid gray;box-sizing: border-box;top: 0;bottom: 0;left: 50%;z-index: -1;}#sk-container-id-14 div.sk-parallel-item {display: flex;flex-direction: column;z-index: 1;position: relative;background-color: white;}#sk-container-id-14 div.sk-parallel-item:first-child::after {align-self: flex-end;width: 50%;}#sk-container-id-14 div.sk-parallel-item:last-child::after {align-self: flex-start;width: 50%;}#sk-container-id-14 div.sk-parallel-item:only-child::after {width: 0;}#sk-container-id-14 div.sk-dashed-wrapped {border: 1px dashed gray;margin: 0 0.4em 0.5em 0.4em;box-sizing: border-box;padding-bottom: 0.4em;background-color: white;}#sk-container-id-14 div.sk-label label {font-family: monospace;font-weight: bold;display: inline-block;line-height: 1.2em;}#sk-container-id-14 div.sk-label-container {text-align: center;}#sk-container-id-14 div.sk-container {/* jupyter's `normalize.less` sets `[hidden] { display: none; }` but bootstrap.min.css set `[hidden] { display: none !important; }` so we also need the `!important` here to be able to override the default hidden behavior on the sphinx rendered scikit-learn.org. See: https://github.com/scikit-learn/scikit-learn/issues/21755 */display: inline-block !important;position: relative;}#sk-container-id-14 div.sk-text-repr-fallback {display: none;}</style><div id=\"sk-container-id-14\" class=\"sk-top-container\"><div class=\"sk-text-repr-fallback\"><pre>LogisticRegression()</pre><b>In a Jupyter environment, please rerun this cell to show the HTML representation or trust the notebook. <br />On GitHub, the HTML representation is unable to render, please try loading this page with nbviewer.org.</b></div><div class=\"sk-container\" hidden><div class=\"sk-item\"><div class=\"sk-estimator sk-toggleable\"><input class=\"sk-toggleable__control sk-hidden--visually\" id=\"sk-estimator-id-14\" type=\"checkbox\" checked><label for=\"sk-estimator-id-14\" class=\"sk-toggleable__label sk-toggleable__label-arrow\">LogisticRegression</label><div class=\"sk-toggleable__content\"><pre>LogisticRegression()</pre></div></div></div></div></div>"
      ],
      "text/plain": [
       "LogisticRegression()"
      ]
     },
     "execution_count": 202,
     "metadata": {},
     "output_type": "execute_result"
    }
   ],
   "source": [
    "clr_LR.fit(X_train_norm, y_train)"
   ]
  },
  {
   "cell_type": "code",
   "execution_count": 203,
   "metadata": {},
   "outputs": [
    {
     "data": {
      "text/plain": [
       "array([-0.26363296,  1.90654543, -1.64291247])"
      ]
     },
     "execution_count": 203,
     "metadata": {},
     "output_type": "execute_result"
    }
   ],
   "source": [
    "clr_LR.intercept_"
   ]
  },
  {
   "cell_type": "code",
   "execution_count": 204,
   "metadata": {},
   "outputs": [
    {
     "data": {
      "text/plain": [
       "array([[-0.98030048,  1.06205679, -1.81062237, -1.71325949],\n",
       "       [ 0.57101706, -0.44747134, -0.27955199, -0.75960701],\n",
       "       [ 0.40928341, -0.61458545,  2.09017436,  2.47286649]])"
      ]
     },
     "execution_count": 204,
     "metadata": {},
     "output_type": "execute_result"
    }
   ],
   "source": [
    "clr_LR.coef_"
   ]
  },
  {
   "cell_type": "code",
   "execution_count": 205,
   "metadata": {},
   "outputs": [],
   "source": [
    "y_pred = clr_LR.predict(X_test_norm)"
   ]
  },
  {
   "cell_type": "code",
   "execution_count": 206,
   "metadata": {},
   "outputs": [
    {
     "data": {
      "text/plain": [
       "array([0, 2, 0, 2, 1, 2, 2, 1, 2, 1, 2, 0, 2, 1, 1, 2, 2, 1, 1, 0, 2, 0,\n",
       "       0, 0, 0, 1, 0, 0, 1, 2])"
      ]
     },
     "execution_count": 206,
     "metadata": {},
     "output_type": "execute_result"
    }
   ],
   "source": [
    "y_test"
   ]
  },
  {
   "cell_type": "code",
   "execution_count": 207,
   "metadata": {},
   "outputs": [
    {
     "data": {
      "text/plain": [
       "0.9666666666666667"
      ]
     },
     "execution_count": 207,
     "metadata": {},
     "output_type": "execute_result"
    }
   ],
   "source": [
    "from sklearn.metrics import accuracy_score\n",
    "accuracy_score(y_test, y_pred)"
   ]
  }
 ],
 "metadata": {
  "kernelspec": {
   "display_name": "Python 3",
   "language": "python",
   "name": "python3"
  },
  "language_info": {
   "codemirror_mode": {
    "name": "ipython",
    "version": 3
   },
   "file_extension": ".py",
   "mimetype": "text/x-python",
   "name": "python",
   "nbconvert_exporter": "python",
   "pygments_lexer": "ipython3",
   "version": "3.10.0"
  },
  "orig_nbformat": 4
 },
 "nbformat": 4,
 "nbformat_minor": 2
}
